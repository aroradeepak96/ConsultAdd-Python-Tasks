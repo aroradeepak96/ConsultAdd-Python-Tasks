{
 "cells": [
  {
   "cell_type": "code",
   "execution_count": null,
   "metadata": {},
   "outputs": [],
   "source": [
    "import math\n",
    "C=50\n",
    "H=30\n",
    "ds=[]\n",
    "result=[]\n",
    "D=input(\"Enter numbers spereated by comma\")\n",
    "ds=D.split(\",\")\n",
    "ds=[int(i) for i in ds]\n",
    "i=0\n",
    "l=len(ds)\n",
    "while(i<l):\n",
    "    Q = round(math.sqrt((2*C*Ds[i])/H))\n",
    "    result. append(Q)\n",
    "    i+=1\n",
    "print(result)"
   ]
  },
  {
   "cell_type": "code",
   "execution_count": null,
   "metadata": {},
   "outputs": [],
   "source": [
    "class Shape:\n",
    "    def __init__(self):\n",
    "        pass\n",
    "\n",
    "    def area(self):\n",
    "        return 0\n",
    "class Square():\n",
    "\n",
    "    def __init__(self,length):\n",
    "        Shape.__init__(self)\n",
    "        self.length = length\n",
    "\n",
    "      \n",
    "    def area(self):\n",
    "        area1=self.length*self.length\n",
    "        return area1\n",
    "obj=Square(2)\n",
    "print(obj.area())"
   ]
  },
  {
   "cell_type": "code",
   "execution_count": null,
   "metadata": {},
   "outputs": [],
   "source": [
    "def find(arr,n):\n",
    "    for i in range(0,n-2):\n",
    "        for j in range(i+1,n-1):\n",
    "            for k in range(j+1,n):\n",
    "                if(arr[i]+arr[j]+arr[k] == 0):\n",
    "                    print(arr[i],arr[j],arr[k])\n",
    "arr=[-25,-10,-7,-3,2,4,8,10]\n",
    "n=len(arr)\n",
    "find(arr,n)"
   ]
  },
  {
   "cell_type": "code",
   "execution_count": null,
   "metadata": {},
   "outputs": [],
   "source": [
    "Error\n",
    "1 2\n",
    "3 1\n",
    "30"
   ]
  },
  {
   "cell_type": "code",
   "execution_count": null,
   "metadata": {},
   "outputs": [],
   "source": [
    "class Time(object):\n",
    "    def __init__(self,hours,minutes):\n",
    "        self.hours = hours\n",
    "        self.minutes = minutes\n",
    "    def addTime(y1,y2):\n",
    "        #y1=[int(s) for s in x1.split() if s.isdigit()]\n",
    "        #y2=[int(q) for q in x2.split() if q.isdigit()]\n",
    "        t3 = Time(0,0)\n",
    "        t3.hours=y1[0] + y2[0]\n",
    "        t3.minutes=y1[1]+y2[1]\n",
    "        while t3.minutes >=60:\n",
    "            t3.hours+=1\n",
    "            t3.minutes-=60\n",
    "        return t3\n",
    "    def displaytime(self):\n",
    "        print(\"Time is %d hours and %d minutes\" %(self.hours, self.minutes))\n",
    "    def displayminutes(self):\n",
    "        print(\"time is %d\"%(self.hours*60+self.minutes))\n",
    "        \n",
    "x1=input(str(\"Enter first time\"))\n",
    "x2=input(str(\"Enter second time\"))\n",
    "y1=[int(s) for s in x1.split() if s.isdigit()]\n",
    "y2=[int(q) for q in x2.split() if q.isdigit()]\n",
    "\n",
    "a=Time.addTime(y1,y2)\n",
    "a.displaytime()\n",
    "a.displayminutes()"
   ]
  },
  {
   "cell_type": "code",
   "execution_count": null,
   "metadata": {},
   "outputs": [],
   "source": [
    "class Person(object):\n",
    "    def __init__(self,n):\n",
    "        self.n=n\n",
    "        if n<0:\n",
    "            print(\"Age is not valid.Setting age to 0\")\n",
    "            n=0\n",
    "    def amiOld(self):\n",
    "        if self.n<10:\n",
    "            print(\"you are young\")\n",
    "        if self.n<18 and self.n>10:\n",
    "            print(\"you are a teenager\")\n",
    "        if self.n>18:\n",
    "            print(\"you are old\")\n",
    "y=int(input(\"Enter age\"))\n",
    "x=Person(y)\n",
    "x.amiOld()"
   ]
  }
 ],
 "metadata": {
  "kernelspec": {
   "display_name": "Python 3",
   "language": "python",
   "name": "python3"
  },
  "language_info": {
   "codemirror_mode": {
    "name": "ipython",
    "version": 3
   },
   "file_extension": ".py",
   "mimetype": "text/x-python",
   "name": "python",
   "nbconvert_exporter": "python",
   "pygments_lexer": "ipython3",
   "version": "3.7.4"
  }
 },
 "nbformat": 4,
 "nbformat_minor": 2
}
