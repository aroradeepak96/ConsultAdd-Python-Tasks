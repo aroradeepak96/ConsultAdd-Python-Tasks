{
 "cells": [
  {
   "cell_type": "code",
   "execution_count": null,
   "metadata": {},
   "outputs": [],
   "source": [
    "x=int(1)\n",
    "y=str(\"Hello\")\n",
    "z=float(1.5)"
   ]
  },
  {
   "cell_type": "code",
   "execution_count": null,
   "metadata": {},
   "outputs": [],
   "source": [
    "b={2}\n",
    "a=int()\n",
    "temp = a\n",
    "a = b\n",
    "b = temp\n",
    "print(type(b))"
   ]
  },
  {
   "cell_type": "code",
   "execution_count": null,
   "metadata": {},
   "outputs": [],
   "source": [
    "b=int(1)\n",
    "a=int(2)\n",
    "temp = a\n",
    "a = b\n",
    "b = temp\n",
    "print(b)\n",
    "\n",
    "a = a+b\n",
    "b = a-b\n",
    "b = a-b\n",
    "print(b)"
   ]
  },
  {
   "cell_type": "code",
   "execution_count": null,
   "metadata": {},
   "outputs": [],
   "source": [
    "x=int(input(\"Enter number\"))"
   ]
  },
  {
   "cell_type": "code",
   "execution_count": null,
   "metadata": {},
   "outputs": [],
   "source": [
    "x=int(input(\"Enter number\"))\n",
    "y=int(input(\"Enter number\"))\n",
    "z=x+y\n",
    "a=z+30\n",
    "if x<10 and y <10 and x>0 and y>0:\n",
    "    print(z)\n",
    "    print(a)\n",
    "else:\n",
    "    print(\"NA\")"
   ]
  },
  {
   "cell_type": "code",
   "execution_count": null,
   "metadata": {},
   "outputs": [],
   "source": [
    "numberOfCollegeGraduates = 2500\n",
    "NumberOfCollegeGraduates = 2500\n",
    "number_of_college_graduates = 2500\n",
    "\n",
    "print(numberOfCollegeGraduates,NumberOfCollegeGraduates,number_of_college_graduates)"
   ]
  },
  {
   "cell_type": "code",
   "execution_count": null,
   "metadata": {},
   "outputs": [],
   "source": [
    "x=int()\n",
    "x=float()\n",
    "print(type(x))\n",
    "#Yes, because python is sequential language"
   ]
  }
 ],
 "metadata": {
  "kernelspec": {
   "display_name": "Python 3",
   "language": "python",
   "name": "python3"
  },
  "language_info": {
   "codemirror_mode": {
    "name": "ipython",
    "version": 3
   },
   "file_extension": ".py",
   "mimetype": "text/x-python",
   "name": "python",
   "nbconvert_exporter": "python",
   "pygments_lexer": "ipython3",
   "version": "3.7.4"
  }
 },
 "nbformat": 4,
 "nbformat_minor": 2
}
