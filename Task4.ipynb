{
 "cells": [
  {
   "cell_type": "code",
   "execution_count": null,
   "metadata": {},
   "outputs": [],
   "source": [
    "def deepak(n):\n",
    "    for i in range (n):\n",
    "        if i%7==0 and i%3!=0:\n",
    "            print(i)\n",
    "deepak(n)"
   ]
  },
  {
   "cell_type": "code",
   "execution_count": null,
   "metadata": {},
   "outputs": [],
   "source": [
    "def deepak(n):\n",
    "    for i in range(n):\n",
    "        print(i*i)\n",
    "deepak(6)"
   ]
  },
  {
   "cell_type": "code",
   "execution_count": null,
   "metadata": {},
   "outputs": [],
   "source": [
    "str1=\"abcDjnj\"\n",
    "c=[x for x in str1 if x.isupper()]\n",
    "print (c)"
   ]
  },
  {
   "cell_type": "code",
   "execution_count": null,
   "metadata": {},
   "outputs": [],
   "source": [
    "str1=\"abcDjnj\"\n",
    "c=[x for x in str1 if x.isupper()]\n",
    "print (c)"
   ]
  },
  {
   "cell_type": "code",
   "execution_count": null,
   "metadata": {},
   "outputs": [],
   "source": [
    "Student = ['Smit', 'Jaya', 'Rayyan']\n",
    "capital = ['CSE', 'Networking', 'Operating System']\n",
    "c=zip(Student,capital)\n",
    "mapped=dict(c)\n",
    "print(mapped)"
   ]
  },
  {
   "cell_type": "code",
   "execution_count": null,
   "metadata": {},
   "outputs": [],
   "source": [
    "n=str(\"Cons\")\n",
    "def reverse(n):\n",
    "    strrev=\"\"\n",
    "    for i in range(n):\n",
    "        strrev= strrev + n[n-i-1]\n",
    "    yield strrev\n",
    "reverse(n)"
   ]
  }
 ],
 "metadata": {
  "kernelspec": {
   "display_name": "Python 3",
   "language": "python",
   "name": "python3"
  },
  "language_info": {
   "codemirror_mode": {
    "name": "ipython",
    "version": 3
   },
   "file_extension": ".py",
   "mimetype": "text/x-python",
   "name": "python",
   "nbconvert_exporter": "python",
   "pygments_lexer": "ipython3",
   "version": "3.7.4"
  }
 },
 "nbformat": 4,
 "nbformat_minor": 2
}
