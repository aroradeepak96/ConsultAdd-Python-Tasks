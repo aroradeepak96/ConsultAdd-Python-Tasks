{
 "cells": [
  {
   "cell_type": "code",
   "execution_count": null,
   "metadata": {},
   "outputs": [],
   "source": [
    "x=int(input(\"Enter Number\"))\n",
    "if x%5==0 and x%3==0:\n",
    "    print(\"ConsulAdd Python training\")\n",
    "elif x%5==0:\n",
    "    print(\"C\")\n",
    "elif x%3==0:\n",
    "    print(\"ConsultAdd\")"
   ]
  },
  {
   "cell_type": "code",
   "execution_count": null,
   "metadata": {},
   "outputs": [],
   "source": [
    "num1 = int(input(\"Enter First Number: \"))\n",
    "num2 = int(input(\"Enter Second Number: \"))\n",
    "\n",
    "print(\"Enter which operation would you like to perform?\")\n",
    "ch = input(\"Enter 1 - Addition, Enter 2 - Subtraction, Enter 3 - Division, Enter 4 - Multiplication, Enter 5 - Average \")\n",
    "\n",
    "result = 0\n",
    "if ch == '1':\n",
    "    result = num1 + num2\n",
    "elif ch == '2':\n",
    "    result = num1 - num2\n",
    "elif ch == '3':\n",
    "    result = num1 * num2\n",
    "elif ch == '4':\n",
    "    result = num1 / num2\n",
    "elif ch=='5':\n",
    "    num3 = int(input(\"Enter third Number: \"))\n",
    "    num4 = int(input(\"Enter fourth Number: \"))\n",
    "    result=(num1 + num2+num3 + num4)/4\n",
    "\n",
    "print(result)\n",
    "if result<0:\n",
    "    print(\"zsa\")"
   ]
  },
  {
   "cell_type": "code",
   "execution_count": null,
   "metadata": {},
   "outputs": [],
   "source": [
    "a=int(10)\n",
    "b=int(20)\n",
    "c=int(30)\n",
    "avg=(a+b+c)/3\n",
    "print(\"avg = \" ,avg)\n",
    "if avg > a and avg >b and avg > c:\n",
    "    print(\"avg is higher than a,b,c\")\n",
    "if avg > a and avg > b:\n",
    "    print(\"avg is higher than a,b,c\")\n",
    "if avg > a and avg > c:\n",
    "    print(\"avg is higher than a,c\")\n",
    "if avg > b and avg >c:\n",
    "    print(\"avg is higher than b,c\")\n",
    "if avg >a:\n",
    "    print(\"avg is just higher than a\")\n",
    "if avg>b:\n",
    "    print(\"avg is just higher than b\")\n",
    "if avg>c:\n",
    "    print(\"avg is just higher than c\")"
   ]
  },
  {
   "cell_type": "code",
   "execution_count": null,
   "metadata": {},
   "outputs": [],
   "source": [
    "a=int(input(\"Enter number\"))\n",
    "while a<0:\n",
    "    print(\"It's Over\")\n",
    "    break\n",
    "print(\"Good Going\")"
   ]
  },
  {
   "cell_type": "code",
   "execution_count": null,
   "metadata": {},
   "outputs": [],
   "source": [
    "for i in range (2000,3200):\n",
    "    if i%7==0 and i%5!=0:\n",
    "        print(i)"
   ]
  },
  {
   "cell_type": "code",
   "execution_count": null,
   "metadata": {},
   "outputs": [],
   "source": [
    "error\n",
    "0,1,2\n",
    "0,1,2,3,4"
   ]
  },
  {
   "cell_type": "code",
   "execution_count": null,
   "metadata": {},
   "outputs": [],
   "source": [
    "n=-1\n",
    "while n in range(-1,6):\n",
    "    n+=1\n",
    "    if n==3 or n==6:\n",
    "        continue\n",
    "    print(n)"
   ]
  },
  {
   "cell_type": "code",
   "execution_count": null,
   "metadata": {},
   "outputs": [],
   "source": [
    "a=str(input(\"Enter string\"))\n",
    "n=0\n",
    "s=0\n",
    "for i in a:\n",
    "    if i.isdigit():\n",
    "        n+=1\n",
    "    if i.isalpha():\n",
    "        s+=1\n",
    "print('Digits= {},Letters= {}'.format(n,s))"
   ]
  },
  {
   "cell_type": "code",
   "execution_count": null,
   "metadata": {},
   "outputs": [],
   "source": [
    "n=int(input(\"Guess the lucky number\"))\n",
    "while n!=3:\n",
    "    s=input((\"Do you want to guess again\"))\n",
    "    if s=='yes':\n",
    "        n=int(input(\"Guess the lucky number\"))\n",
    "    elif s=='no':\n",
    "        break"
   ]
  },
  {
   "cell_type": "code",
   "execution_count": null,
   "metadata": {},
   "outputs": [],
   "source": [
    "counter=1\n",
    "while counter <= 5 :\n",
    "\tnumber=input(\"Guess the \",counter,\" number\")\n",
    "\t\n",
    "    if number !=3:\n",
    "        print(\"Try Again\")\n",
    "    counter=counter+1"
   ]
  },
  {
   "cell_type": "code",
   "execution_count": null,
   "metadata": {},
   "outputs": [],
   "source": [
    "counter = 1\n",
    "while counter <= 5:\n",
    "    number = input(\"Guess the \" + str(counter) + \". number \")\n",
    "    if number == '5':\n",
    "        print (\"Good guess!\")\n",
    "        break\n",
    "    else:\n",
    "        print (\"try again\")\n",
    "    counter = counter +1\n",
    "else:\n",
    "    print(\"Sorry but that was not very successful\")"
   ]
  }
 ],
 "metadata": {
  "kernelspec": {
   "display_name": "Python 3",
   "language": "python",
   "name": "python3"
  },
  "language_info": {
   "codemirror_mode": {
    "name": "ipython",
    "version": 3
   },
   "file_extension": ".py",
   "mimetype": "text/x-python",
   "name": "python",
   "nbconvert_exporter": "python",
   "pygments_lexer": "ipython3",
   "version": "3.7.4"
  }
 },
 "nbformat": 4,
 "nbformat_minor": 2
}
