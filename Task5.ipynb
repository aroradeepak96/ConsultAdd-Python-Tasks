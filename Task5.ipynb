{
 "cells": [
  {
   "cell_type": "code",
   "execution_count": null,
   "metadata": {},
   "outputs": [],
   "source": [
    "try:\n",
    "    n1 = int(input('Enter the numerator:'))\n",
    "    n2 = int(input('Enter the denominator: '))\n",
    "    quo = n1/n2\n",
    "    print('The quotient when dividing', n1, 'by', n2, 'is:', quo)\n",
    "except Exception:\n",
    "    print('Error in input!!')"
   ]
  },
  {
   "cell_type": "code",
   "execution_count": null,
   "metadata": {},
   "outputs": [],
   "source": [
    "import sys \n",
    "  \n",
    "print(\"This is the name of the program:\", sys.argv[0]) \n",
    "  \n",
    "print(\"Argument List:\", str(sys.argv)) "
   ]
  },
  {
   "cell_type": "code",
   "execution_count": null,
   "metadata": {},
   "outputs": [],
   "source": [
    "def compute():\n",
    "    try:\n",
    "        n1 = int(input('Enter the number: '))\n",
    "        if len(n1) != 4:\n",
    "            raise ValueError\n",
    "        print('no error')\n",
    "    except ValueError:\n",
    "        print('\\nOnly positive numbers are valid!!!\\nPrinting from compute_exponent\\n')\n",
    "compute()"
   ]
  },
  {
   "cell_type": "code",
   "execution_count": null,
   "metadata": {},
   "outputs": [],
   "source": [
    "try:\n",
    "    my_input = input(\"Please enter a (4 digit) number: \")\n",
    "    if len(my_input) != 4:\n",
    "        raise ValueError()\n",
    "except ValueError:\n",
    "    print(\"Please length is too short/long !!! Please provide only four digits\")"
   ]
  },
  {
   "cell_type": "code",
   "execution_count": null,
   "metadata": {},
   "outputs": [],
   "source": [
    "username=\"q\"\n",
    "password=\"deepak\"\n",
    "i=0\n",
    "my_input1 = input(\"Enter Username \")\n",
    "while i<3:\n",
    "    my_input2 = input(\"Enter Password \")\n",
    "    if my_input2 == password:\n",
    "        print(\"good\")\n",
    "        break\n",
    "    else:\n",
    "        print(\"Enter password again\")\n",
    "        i+=1"
   ]
  },
  {
   "cell_type": "code",
   "execution_count": null,
   "metadata": {},
   "outputs": [],
   "source": [
    "with open('read.txt','r') as file:  \n",
    "    for line in file:        \n",
    "        for word in line.split():\n",
    "            if len(word)%2==0:           \n",
    "                print(word)  "
   ]
  }
 ],
 "metadata": {
  "kernelspec": {
   "display_name": "Python 3",
   "language": "python",
   "name": "python3"
  },
  "language_info": {
   "codemirror_mode": {
    "name": "ipython",
    "version": 3
   },
   "file_extension": ".py",
   "mimetype": "text/x-python",
   "name": "python",
   "nbconvert_exporter": "python",
   "pygments_lexer": "ipython3",
   "version": "3.7.4"
  }
 },
 "nbformat": 4,
 "nbformat_minor": 2
}
